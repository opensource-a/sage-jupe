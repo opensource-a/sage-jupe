{
 "cells": [
  {
   "cell_type": "code",
   "execution_count": null,
   "metadata": {},
   "outputs": [],
   "source": [
    "from datetime import datetime\n",
    "\n",
    "print(\"Notebook run on {}\".format(datetime.now().strftime(\"%Y-%m-%d %H:%M:%S\")))"
   ]
  },
  {
   "cell_type": "code",
   "execution_count": null,
   "metadata": {
    "tags": [
     "parameters"
    ]
   },
   "outputs": [],
   
   "source": [
    "input_bucket = 'sage-jupe-test-101'",
    "output_bucket = 'sage-jupe-test-101'"
   ]
  },
  {
   "cell_type": "code",
   "execution_count": null,
   "metadata": {},
   "outputs": [],
   "source": [
    "from io import StringIO\n",
    "\n",
    "import boto3\n",
    "import pandas as pd\n",
    "\n",
    "import csv\n",
    "import json\n",
    "\n",
    "\n",
    "s3 = boto3.resource('s3')\n",
    "my_bucket = s3.Bucket(input_bucket)\n",
    "    \n",
    "for file in my_bucket.objects.all():\n",
    "    if file.key.endswith(\".csv\"):\n",
    "        csv_f = f\"s3://{input_bucket}/{file.key}\"\n",
    "        print(csv_f)\n",
    "        json_file = file.key.replace(\".csv\", \".json\")\n",
    "        print(json_file)\n",
    "        json_buffer = StringIO()\n",
    "        df = pd.read_csv(csv_f)\n",
    "        df.to_json(json_buffer, orient='index')\n",
    "        s3.Object(output_bucket, json_file).put(Body=json_buffer.getvalue())            \n",
    "\n"
   ]
  }
 ],
 "metadata": {
  "kernelspec": {
   "display_name": "conda_python3",
   "language": "python",
   "name": "conda_python3"
  },
  "language_info": {
   "codemirror_mode": {
    "name": "ipython",
    "version": 3
   },
   "file_extension": ".py",
   "mimetype": "text/x-python",
   "name": "python",
   "nbconvert_exporter": "python",
   "pygments_lexer": "ipython3",
   "version": "3.6.10"
  }
 },
 "nbformat": 4,
 "nbformat_minor": 4
}
