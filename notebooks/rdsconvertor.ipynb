{
 "cells": [
  {
   "cell_type": "code",
   "execution_count": null,
   "metadata": {},
   "outputs": [],
   "source": [
    "dbusername='admin'\n",
    "dbpassword='password'\n",
    "dbhost='sj20210222-instance-1.cpuyvrxxbdak.us-east-1.rds.amazonaws.com'\n",
    "database='cities'\n",
    "fields=[\"field1\",\"field2\"]\n",
    "table='test'\n",
    "import pandas as pd\n",
    "!pip install PyMySQL\n",
    "import pymysql\n",
    "pymysql.install_as_MySQLdb()\n",
    "import MySQLdb\n",
    "from sqlalchemy import create_engine, types\n",
    "engine = create_engine('mysql://'+dbusername+':'+dbpassword+'@'+dbhost+'/'+database) \n",
    "df = pd.read_csv('cities.csv',sep=',',encoding='utf8',names=fields)\n",
    "print(df)\n",
    "df.to_sql(table,con=engine,index=False,if_exists='append')"
   ]
  },
  {
   "cell_type": "code",
   "execution_count": null,
   "metadata": {},
   "outputs": [],
   "source": [
    "from datetime import datetime\n",
    "\n",
    "print(\"Notebook run on {}\".format(datetime.now().strftime(\"%Y-%m-%d %H:%M:%S\")))"
   ]
  },
  {
   "cell_type": "code",
   "execution_count": null,
   "metadata": {
    "tags": [
     "parameters"
    ]
   },
   "outputs": [],
   "source": [
    "input_bucket = '#input_bucket'\n",
    "output_bucket = '#output_bucket'"
   ]
  },
  {
   "cell_type": "code",
   "execution_count": null,
   "metadata": {
    "tags": [
     "parameters"
    ]
   },
   "outputs": [],
   "source": [
    "rdsendpoint = '#rdsendpoint'\n",
    "user1 = '#user'\n",
    "password1 = '#password'"
   ]
  },
  {
   "cell_type": "code",
   "execution_count": null,
   "metadata": {
    "tags": [
     "parameters"
    ]
   },
   "outputs": [],
   "source": [
    "database1 = '#querydatabase'\n",
    "query = '#querystring'"
   ]
  },
  {
   "cell_type": "code",
   "execution_count": null,
   "metadata": {},
   "outputs": [],
   "source": []
  }
 ],
 "metadata": {
  "celltoolbar": "Edit Metadata",
  "kernelspec": {
   "display_name": "conda_python3",
   "language": "python",
   "name": "conda_python3"
  },
  "language_info": {
   "codemirror_mode": {
    "name": "ipython",
    "version": 3
   },
   "file_extension": ".py",
   "mimetype": "text/x-python",
   "name": "python",
   "nbconvert_exporter": "python",
   "pygments_lexer": "ipython3",
   "version": "3.6.10"
  }
 },
 "nbformat": 4,
 "nbformat_minor": 4
}
