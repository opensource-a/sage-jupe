{
 "cells": [
  {
   "cell_type": "code",
   "execution_count": null,
   "metadata": {},
   "outputs": [],
   "source": [
    "! pip install mysql-connector\n",
    "! pip install pyyaml"
   ]
  },
  {
   "cell_type": "code",
   "execution_count": null,
   "metadata": {},
   "outputs": [],
   "source": [
    "import yaml\n",
    "\n",
    "with open('/tmp/parameters.yml') as file:\n",
    "    # The FullLoader parameter handles the conversion from YAML\n",
    "    # scalar values to Python the dictionary format\n",
    "    parameter_value = yaml.load(file, Loader=yaml.FullLoader)"
   ]
  },
  {
   "cell_type": "code",
   "execution_count": null,
   "metadata": {},
   "outputs": [],
   "source": [
    "from datetime import datetime\n",
    "\n",
    "print(\"Notebook run on {}\".format(datetime.now().strftime(\"%Y-%m-%d %H:%M:%S\")))"
   ]
  },
  {
   "cell_type": "code",
   "execution_count": null,
   "metadata": {
    "tags": [
     "parameters"
    ]
   },
   "outputs": [],
   "source": [
    "input_bucket = parameter_value['s3bucket']\n",
    "output_bucket = parameter_value['s3bucket']\n",
    "output_prefix = parameter_value['output_prefix']"
   ]
  },
  {
   "cell_type": "code",
   "execution_count": null,
   "metadata": {
    "tags": [
     "parameters"
    ]
   },
   "outputs": [],
   "source": [
    "rdsendpoint = parameter_value['rdsendpoint']\n",
    "user1 = parameter_value['rdsuser']\n",
    "password1 = parameter_value['rdspassword']"
   ]
  },
  {
   "cell_type": "code",
   "execution_count": null,
   "metadata": {
    "tags": [
     "parameters"
    ]
   },
   "outputs": [],
   "source": [
    "database1 = parameter_value['database']\n",
    "query = parameter_value['query']"
   ]
  },
  {
   "cell_type": "code",
   "execution_count": null,
   "metadata": {},
   "outputs": [],
   "source": [
    "from io import StringIO\n",
    "\n",
    "import boto3\n",
    "import pandas as pd\n",
    "\n",
    "import csv\n",
    "import json\n",
    "import mysql.connector\n",
    "print(rdsendpoint)\n",
    "mydb = mysql.connector.connect(\n",
    "    host=rdsendpoint,\n",
    "    user=user1,\n",
    "    password=password1,\n",
    "    database=database1\n",
    ")\n",
    "\n",
    "cur = mydb.cursor()\n",
    "\n",
    "cur.execute(query)\n",
    "\n",
    "row_headers=[x[0] for x in cur.description] #this will extract row headers\n",
    "rv = cur.fetchall()\n",
    "json_data=[]\n",
    "for result in rv:\n",
    "    json_data.append(dict(zip(row_headers,result)))\n",
    "myresult = json.dumps(json_data)\n",
    "\n",
    "print(myresult)\n",
    "\n",
    "\n",
    "s3 = boto3.resource('s3')\n",
    "\n",
    "    \n",
    "json_file = database1 + \".json\"\n",
    "print(json_file)\n",
    "s3.Object(output_bucket, output_prefix+\"/\"+json_file).put(Body=myresult)            \n",
    "\n"
   ]
  },
  {
   "cell_type": "code",
   "execution_count": null,
   "metadata": {},
   "outputs": [],
   "source": []
  }
 ],
 "metadata": {
  "celltoolbar": "Edit Metadata",
  "kernelspec": {
   "display_name": "conda_python3",
   "language": "python",
   "name": "conda_python3"
  },
  "language_info": {
   "codemirror_mode": {
    "name": "ipython",
    "version": 3
   },
   "file_extension": ".py",
   "mimetype": "text/x-python",
   "name": "python",
   "nbconvert_exporter": "python",
   "pygments_lexer": "ipython3",
   "version": "3.6.10"
  }
 },
 "nbformat": 4,
 "nbformat_minor": 4
}
